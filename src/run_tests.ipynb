{
 "cells": [
  {
   "cell_type": "code",
   "execution_count": null,
   "metadata": {},
   "outputs": [],
   "source": [
    "import sys\n",
    "import os\n",
    "sys.path.append(os.path.dirname(os.path.dirname(os.path.abspath(''))))\n",
    "\n",
    "from code_types import CodeFormatter"
   ]
  },
  {
   "cell_type": "code",
   "execution_count": null,
   "metadata": {},
   "outputs": [],
   "source": [
    "from e2b_code_interpreter import Sandbox\n",
    "import os\n",
    "\n",
    "# Create the sandbox\n",
    "cwd = \"/home/user/code\"\n",
    "sandbox = Sandbox(api_key=os.getenv(\"E2B_API_KEY\"), cwd=cwd)\n",
    "\n",
    "\n"
   ]
  },
  {
   "cell_type": "code",
   "execution_count": null,
   "metadata": {},
   "outputs": [],
   "source": [
    "code_formatter = CodeFormatter()"
   ]
  },
  {
   "cell_type": "code",
   "execution_count": null,
   "metadata": {},
   "outputs": [],
   "source": [
    "local_dir = os.path.join(os.getcwd(), \"..\", \"generated_code_20240805_061004\")"
   ]
  },
  {
   "cell_type": "code",
   "execution_count": null,
   "metadata": {},
   "outputs": [],
   "source": [
    "import mimetypes\n",
    "\n",
    "def is_binary(file_path):\n",
    "    mime_type, _ = mimetypes.guess_type(file_path)\n",
    "    return mime_type and not mime_type.startswith('text')"
   ]
  },
  {
   "cell_type": "code",
   "execution_count": null,
   "metadata": {},
   "outputs": [],
   "source": [
    "for root, dirs, files in os.walk(local_dir):\n",
    "    for file in files:\n",
    "        local_path = os.path.join(root, file)\n",
    "        relative_path = os.path.relpath(local_path, local_dir)\n",
    "        sandbox_path = f\"{cwd}/{relative_path}\"\n",
    "        \n",
    "        # Create directories if they don't exist\n",
    "        sandbox_dir = os.path.dirname(sandbox_path)\n",
    "        sandbox.filesystem.make_dir(sandbox_dir, timeout=None)\n",
    "        \n",
    "        if is_binary(local_path):\n",
    "            with open(local_path, 'rb') as file_obj:\n",
    "                content = file_obj.read()\n",
    "            sandbox.filesystem.write_bytes(sandbox_path, content, timeout=None)\n",
    "        else:\n",
    "            # Directly read and write text files\n",
    "            with open(local_path, 'r', encoding='utf-8') as file_obj:\n",
    "                content = file_obj.read()\n",
    "            content = content.replace(\"\\\\'\", \"'\").replace('\\\\\"', '\"')\n",
    "            sandbox.filesystem.write(sandbox_path, content, timeout=None)\n",
    "\n",
    "\n",
    "        print(f\"Uploaded: {local_path} -> {sandbox_path}\")"
   ]
  },
  {
   "cell_type": "code",
   "execution_count": null,
   "metadata": {},
   "outputs": [],
   "source": [
    "sandbox.filesystem.list(\"/home/user/code\")"
   ]
  },
  {
   "cell_type": "code",
   "execution_count": null,
   "metadata": {},
   "outputs": [],
   "source": [
    "print(\"Installing requirements...\")\n",
    "install_result = sandbox.process.start_and_wait(f\"pip install -r {cwd}/requirements.txt\", timeout=300)\n",
    "print(\"Pip install stdout:\", install_result.stdout)\n",
    "print(\"Pip install stderr:\", install_result.stderr)"
   ]
  },
  {
   "cell_type": "code",
   "execution_count": null,
   "metadata": {},
   "outputs": [],
   "source": [
    "# print(\"Installing requirements...\")\n",
    "# format_and_lint_result = sandbox.process.start_and_wait(f\"python {cwd}/format_and_lint.py\", timeout=300)\n",
    "# print(\"Format and lint stdout:\", format_and_lint_result.stdout)\n",
    "# print(\"Format and lint stderr:\", format_and_lint_result.stderr)"
   ]
  },
  {
   "cell_type": "code",
   "execution_count": null,
   "metadata": {},
   "outputs": [],
   "source": [
    "print(\"\\nRunning tests...\")\n",
    "test_result = sandbox.process.start_and_wait(f\"python {cwd}/run_tests.py\", timeout=300)\n",
    "print(\"Test stdout:\", test_result.stdout)\n",
    "print(\"Test stderr:\", test_result.stderr)"
   ]
  },
  {
   "cell_type": "code",
   "execution_count": null,
   "metadata": {},
   "outputs": [],
   "source": [
    "# sandbox.close()"
   ]
  },
  {
   "cell_type": "code",
   "execution_count": null,
   "metadata": {},
   "outputs": [],
   "source": []
  }
 ],
 "metadata": {
  "kernelspec": {
   "display_name": ".venv",
   "language": "python",
   "name": "python3"
  },
  "language_info": {
   "codemirror_mode": {
    "name": "ipython",
    "version": 3
   },
   "file_extension": ".py",
   "mimetype": "text/x-python",
   "name": "python",
   "nbconvert_exporter": "python",
   "pygments_lexer": "ipython3",
   "version": "3.12.4"
  }
 },
 "nbformat": 4,
 "nbformat_minor": 2
}
