{
 "cells": [
  {
   "cell_type": "code",
   "execution_count": null,
   "metadata": {},
   "outputs": [],
   "source": [
    "unit_tests = []"
   ]
  },
  {
   "cell_type": "code",
   "execution_count": 11,
   "metadata": {},
   "outputs": [
    {
     "name": "stdout",
     "output_type": "stream",
     "text": [
      "Logged in as Weights & Biases user: a-sh0ts.\n",
      "View Weave data at https://wandb.ai/a-sh0ts/groq-instructor-e2b-eval/weave\n"
     ]
    }
   ],
   "source": [
    "import weave\n",
    "client = weave.init(\"a-sh0ts/groq-instructor-e2b-eval\")\n",
    "calls = client.call(\"426c0bc8-eb20-4fba-994b-b34e92129dec\")"
   ]
  },
  {
   "cell_type": "code",
   "execution_count": 12,
   "metadata": {},
   "outputs": [
    {
     "data": {
      "text/plain": [
       "WeaveObject(Call(op_name='weave:///a-sh0ts/groq-instructor-e2b-eval/op/UnitTestGenerator.generate_tests:gVB6oYFCpGYJ8gn33pEoOrGRTA6fJcNgF0CU2yYAQqM', trace_id='7dc67f23-93c5-48c8-b3d6-fa5ec9c0abcb', project_id='a-sh0ts/groq-instructor-e2b-eval', parent_id=None, inputs={'self': ObjectRef(entity='a-sh0ts', project='groq-instructor-e2b-eval', name='UnitTestGenerator', digest='cLXYmyTh7UQCAhvqK7VWM7pek5XiXjYDUeFnkrFBjsc', extra=()), 'generated_code': ObjectRef(entity='a-sh0ts', project='groq-instructor-e2b-eval', name='GeneratedCode', digest='Gyvy3nBbuGdVq82VOsrTfHrzbxlXUHAf404tYNHxWyw', extra=())}, id='426c0bc8-eb20-4fba-994b-b34e92129dec', output=['weave:///a-sh0ts/groq-instructor-e2b-eval/object/UnitTest:D8ILRZoKoBjFcP5Mfg3KNh2k5njVM54cWQ7DXXabgUQ', 'weave:///a-sh0ts/groq-instructor-e2b-eval/object/UnitTest:ta7Mzgu5AVNhx22wS0pHskwdVXWrkJJoyrmoYpkthko', 'weave:///a-sh0ts/groq-instructor-e2b-eval/object/UnitTest:tXBYNkNjz3rIZuoejNcSN91W7bjV4njYZkWisGYXZ5M', 'weave:///a-sh0ts/groq-instructor-e2b-eval/object/UnitTest:CECVxNZt6qIaY16elX4bVKEUu7uKhYeIdAtpi6stnro', 'weave:///a-sh0ts/groq-instructor-e2b-eval/object/UnitTest:GXs3nYC630SDNozgnKHgJcFOKbtal0ZQGWdXCka0PLo'], exception=None, summary={'usage': {'mixtral-8x7b-32768': {'requests': 5, 'completion_tokens': 2304, 'prompt_tokens': 11260, 'total_tokens': 13564, 'completion_time': 3.727221975, 'prompt_time': 0.593988698, 'total_time': 4.321210673}}}, display_name=None, attributes={'weave': {'client_version': '0.50.12', 'source': 'python-sdk', 'os_name': 'Darwin', 'os_version': 'Darwin Kernel Version 23.2.0: Wed Nov 15 21:55:06 PST 2023; root:xnu-10002.61.3~2/RELEASE_ARM64_T6020', 'os_release': '23.2.0', 'sys_version': '3.12.4 (main, Jul 15 2024, 14:37:12) [Clang 15.0.0 (clang-1500.1.0.2.5)]'}}, _children=[], _feedback=None))"
      ]
     },
     "execution_count": 12,
     "metadata": {},
     "output_type": "execute_result"
    }
   ],
   "source": [
    "calls"
   ]
  },
  {
   "cell_type": "code",
   "execution_count": 16,
   "metadata": {},
   "outputs": [
    {
     "data": {
      "text/plain": [
       "[WeaveObject(ObjectRecord({'function_name': 'test_initialize_game', 'test_code': 'import random\\nWORDS = [\\'python\\', \\'input\\', \\'print\\', \\'return\\', \\'string\\']\\nword = \\'python\\'\\n\\ndef test_initialize_game():\\n    initialized_word = initialize_game()\\n    assert initialized_word == word,\"The initialized word is not equal to the chosen word.\"\\n\\ninitialize_game = lambda: random.choice(WORDS)', 'additional_requirements': [ObjectRef(entity='a-sh0ts', project='groq-instructor-e2b-eval', name='random', digest='NfKER2TeHfrQBQzWe6hrtAASrKA9wuFYn1ZQpH4ZFH4', extra=())], '_class_name': 'UnitTest', '_bases': ['UnitTest', 'OpenAISchema', 'BaseModel']})),\n",
       " WeaveObject(ObjectRecord({'function_name': 'test_get_guess', 'test_code': \"import unittest\\n\\nclass TestGetGuess(unittest.TestCase):\\n\\n    def setUp(self):\\n        self.mock_input = unittest.mock.patch('builtins.input').start()\\n\\n    def tearDown(self):\\n        unittest.mock.patch.stopall()\\n\\n    def test_valid_input(self):\\n        self.mock_input.return_value = 'python'\\n        result = get_guess()\\n        self.assertEqual(result, 'python')\\n\\n    def test_invalid_length(self):\\n        self.mock_input.return_value = 'py'\\n        with self.assertRaises(RecursionError):\\n            get_guess()\\n\\n    def test_invalid_input(self):\\n        self.mock_input.return_value = '12345'\\n        with self.assertRaises(RecursionError):\\n            get_guess()\\n\\nif __name__ == '__main__':\\n    unittest.main()\", 'additional_requirements': [ObjectRef(entity='a-sh0ts', project='groq-instructor-e2b-eval', name='unittest', digest='Xd13xVHGyZm4yr3AMqugj954jZ915TtYz8bXWjtsZ7E', extra=()), ObjectRef(entity='a-sh0ts', project='groq-instructor-e2b-eval', name='unittest.mock', digest='npxpzZ3eTJPNXis67XzddfHYvpTHY5O2GqnxTG2paQA', extra=())], '_class_name': 'UnitTest', '_bases': ['UnitTest', 'OpenAISchema', 'BaseModel']})),\n",
       " WeaveObject(ObjectRecord({'function_name': 'check_guess', 'test_code': \"import unittest\\nfrom unittest.mock import patch\\n\\ndef test_check_guess(word, guess):\\n    # Test function without interaction with other functions\\n    if word == guess == 'python':\\n        result = ['_', 'o', 'm', '_', 'n']\\n        assert check_guess(word, guess) == result\\n    elif word == 'print' and guess == 'prntt':\\n        result = ['p', '_', 'n', 't', 't']\\n        assert check_guess(word, guess) == result\\n    # Testing edge cases\\n    if word == 'input' and guess == 'inpt':\\n        result = ['_', 'i', 'm', '_', 't']\\n        assert check_guess(word, guess) == result\\n    if word == 'return' and guess == 'retun':\\n        result = ['r', 'e', '_', 'n', '_']\\n        assert check_guess(word, guess) == result\\n\", 'additional_requirements': [ObjectRef(entity='a-sh0ts', project='groq-instructor-e2b-eval', name='unittest', digest='Ti1wn5Xg1PXhAD51GFeyKOHiOneO7qUB8XNYiRu6MsU', extra=()), ObjectRef(entity='a-sh0ts', project='groq-instructor-e2b-eval', name='unittest.mock', digest='JsaWHJqk4xKGPit2x956T7LYOOWZlUXG3FMhh6Asu7Q', extra=())], '_class_name': 'UnitTest', '_bases': ['UnitTest', 'OpenAISchema', 'BaseModel']})),\n",
       " WeaveObject(ObjectRecord({'function_name': 'display_result', 'test_code': \"import unittest\\n\\nclass TestDisplayResult(unittest.TestCase):\\n    def test_basic(self):\\n        feedback = ['_', '_', '_', '_', '_']\\n        display_result(feedback)\\n        self.assertEqual(feedback, ['_', '_', '_', '_', '_'])\\n\\n    def test_result(self):\\n        feedback = ['_', '✔', '_', '_', '✔']\\n        display_result(feedback)\\n        self.assertEqual(feedback, ['_', '✔', '_', '_', '✔'])\\n\\n    def test_edge_case(self):\\n        feedback = ['✔', '✔', '✔', '✔', '✔']\\n        display_result(feedback)\\n        self.assertEqual(feedback, ['✔', '✔', '✔', '✔', '✔'])\\n\\nif __name__ == '__main__':\\n    unittest.main()\", 'additional_requirements': [], '_class_name': 'UnitTest', '_bases': ['UnitTest', 'OpenAISchema', 'BaseModel']})),\n",
       " WeaveObject(ObjectRecord({'function_name': 'test_play_wordle', 'test_code': \"```python\\nimport unittest\\nfrom unittest.mock import patch\\n\\ndef test_play_wordle(mock_word, mock_get_guess, mock_check_guess, mock_display_result):\\n    # Test when word is in words list\\n    mock_word = 'python'\\n    expected_feedback = ['_', '✔', '_', '_', '_']\\n    with patch('__main__.get_guess', new=mock_get_guess), patch('__main__.check_guess', new=mock_check_guess), patch('__main__.display_result', new=mock_display_result):\\n        play_wordle()\\n        assert mock_get_guess.call_count == 1\\n        assert mock_check_guess.call_count == 1\\n        assert mock_display_result.call_count == 1\\n\\n        # Test when word is not in words list\\n        mock_word = 'test'\\n        expected_feedback = ['_', '_', '_', '_', '_']\\n        with patch('__main__.get_guess', new=mock_get_guess), patch('__main__.check_guess', new=mock_check_guess), patch('__main__.display_result', new=mock_display_result):\\n            play_wordle()\\n            assert mock_get_guess.call_count == 2\\n            assert mock_check_guess.call_count == 2\\n            assert mock_display_result.call_count == 2\\n\\n        # Test when word length is not 5\\n        mock_word = 'test1'\\n        expected_feedback = ['Invalid input']\\n        with patch('__main__.get_guess', new=mock_get_guess), patch('__main__.check_guess', new=mock_check_guess), patch('__main__.display_result', new=mock_display_result):\\n            play_wordle()\\n            assert mock_get_guess.call_count == 3\\n            assert mock_check_guess.call_count == 0\\n            assert mock_display_result.call_count == 1\\n\\n        # Test when user runs out of guesses\\n        mock_word = 'python'\\n        mock_get_guess.side_effect = ['test', 'test1', 'python']\\n        expected_feedback = ['_', '_', '_', '_', '✔']\\n        with patch('__main__.get_guess', new=mock_get_guess), patch('__main__.check_guess', new=mock_check_guess), patch('__main__.display_result', new=mock_display_result):\\n            play_wordle()\\n            assert mock_get_guess.call_count == 6\\n            assert mock_check_guess.call_count == 4\\n            assert mock_display_result.call_count == 5\\n\\n```\", 'additional_requirements': [ObjectRef(entity='a-sh0ts', project='groq-instructor-e2b-eval', name='unittest', digest='fyZYkfXNzeNC3J0WhtilPsDaAvC2mf3XIExrhY1ogR8', extra=()), ObjectRef(entity='a-sh0ts', project='groq-instructor-e2b-eval', name='unittest.mock', digest='oBIwXt74hQzCX1VELtfEYKXwVS1yxXX2OE9rofTtYqs', extra=())], '_class_name': 'UnitTest', '_bases': ['UnitTest', 'OpenAISchema', 'BaseModel']}))]"
      ]
     },
     "execution_count": 16,
     "metadata": {},
     "output_type": "execute_result"
    }
   ],
   "source": [
    "resolved_calls = []\n",
    "for call in calls.output:\n",
    "    resolved_calls.append(weave.ref(call).get())\n",
    "resolved_calls"
   ]
  },
  {
   "cell_type": "code",
   "execution_count": 18,
   "metadata": {},
   "outputs": [],
   "source": [
    "import ast\n",
    "\n",
    "def check_code_syntax(code_string):\n",
    "    try:\n",
    "        ast.parse(code_string)\n",
    "        return True\n",
    "    except SyntaxError:\n",
    "        return False"
   ]
  },
  {
   "cell_type": "code",
   "execution_count": 29,
   "metadata": {},
   "outputs": [
    {
     "name": "stdout",
     "output_type": "stream",
     "text": [
      "Code is valid Python syntax\n"
     ]
    }
   ],
   "source": [
    "unit_test = resolved_calls[1]\n",
    "# Usage\n",
    "is_valid = check_code_syntax(unit_test.test_code)\n",
    "print(f\"Code is {'valid' if is_valid else 'invalid'} Python syntax\")"
   ]
  },
  {
   "cell_type": "code",
   "execution_count": 37,
   "metadata": {},
   "outputs": [
    {
     "name": "stdout",
     "output_type": "stream",
     "text": [
      "test_get_guess\n",
      "import unittest\n",
      "\n",
      "\n",
      "class TestGetGuess(unittest.TestCase):\n",
      "\n",
      "    def setUp(self):\n",
      "        self.mock_input = unittest.mock.patch(\"builtins.input\").start()\n",
      "\n",
      "    def tearDown(self):\n",
      "        unittest.mock.patch.stopall()\n",
      "\n",
      "    def test_valid_input(self):\n",
      "        self.mock_input.return_value = \"python\"\n",
      "        result = get_guess()\n",
      "        self.assertEqual(result, \"python\")\n",
      "\n",
      "    def test_invalid_length(self):\n",
      "        self.mock_input.return_value = \"py\"\n",
      "        with self.assertRaises(RecursionError):\n",
      "            get_guess()\n",
      "\n",
      "    def test_invalid_input(self):\n",
      "        self.mock_input.return_value = \"12345\"\n",
      "        with self.assertRaises(RecursionError):\n",
      "            get_guess()\n",
      "\n",
      "\n",
      "if __name__ == \"__main__\":\n",
      "    unittest.main()\n",
      "\n"
     ]
    }
   ],
   "source": [
    "import black\n",
    "\n",
    "formatted_code = black.format_str(unit_test.test_code, mode=black.Mode())\n",
    "print(unit_test.function_name)\n",
    "print(formatted_code)"
   ]
  },
  {
   "cell_type": "code",
   "execution_count": 31,
   "metadata": {},
   "outputs": [
    {
     "data": {
      "text/plain": [
       "True"
      ]
     },
     "execution_count": 31,
     "metadata": {},
     "output_type": "execute_result"
    }
   ],
   "source": [
    "from dotenv import load_dotenv\n",
    "load_dotenv()\n"
   ]
  },
  {
   "cell_type": "code",
   "execution_count": 32,
   "metadata": {},
   "outputs": [],
   "source": [
    "import sys\n",
    "import os\n",
    "sys.path.append(os.path.dirname(os.path.dirname(os.path.abspath(''))))\n",
    "\n",
    "from test_e2b import CodeExecutor"
   ]
  },
  {
   "cell_type": "code",
   "execution_count": 33,
   "metadata": {},
   "outputs": [
    {
     "name": "stdout",
     "output_type": "stream",
     "text": [
      "[Code Interpreter] E\n",
      "[Code Interpreter] \n",
      "\n",
      "[Code Interpreter] ======================================================================\n",
      "ERROR: /root/ (unittest.loader._FailedTest)\n",
      "----------------------------------------------------------------------\n",
      "AttributeError: module '__main__' has no attribute '/root/'\n",
      "\n",
      "\n",
      "[Code Interpreter] ----------------------------------------------------------------------\n",
      "Ran 1 test in 0.002s\n",
      "\n",
      "FAILED (errors=1)\n",
      "\n",
      "[Code Interpreter] /usr/local/lib/python3.10/site-packages/IPython/core/interactiveshell.py:3585: UserWarning: To exit: use 'exit', 'quit', or Ctrl-D.\n",
      "  warn(\"To exit: use 'exit', 'quit', or Ctrl-D.\", stacklevel=1)\n",
      "\n",
      "🍩 https://wandb.ai/a-sh0ts/groq-instructor-e2b-eval/r/call/2162f387-b1bc-497f-a9b2-a011ec4eccb2\n"
     ]
    },
    {
     "data": {
      "text/plain": [
       "{'execution_result': Execution(results=[], logs=Logs(stdout=[], stderr=['E', '\\n', \"======================================================================\\nERROR: /root/ (unittest.loader._FailedTest)\\n----------------------------------------------------------------------\\nAttributeError: module '__main__' has no attribute '/root/'\\n\\n\", '----------------------------------------------------------------------\\nRan 1 test in 0.002s\\n\\nFAILED (errors=1)\\n', '/usr/local/lib/python3.10/site-packages/IPython/core/interactiveshell.py:3585: UserWarning: To exit: use \\'exit\\', \\'quit\\', or Ctrl-D.\\n  warn(\"To exit: use \\'exit\\', \\'quit\\', or Ctrl-D.\", stacklevel=1)\\n']), error=Error(name='SystemExit', value='True', traceback_raw=['An exception has occurred, use %tb to see the full traceback.\\n', 'SystemExit: True\\n']), execution_count=1)}"
      ]
     },
     "execution_count": 33,
     "metadata": {},
     "output_type": "execute_result"
    }
   ],
   "source": [
    "CodeExecutor().execute(unit_test.test_code)"
   ]
  },
  {
   "cell_type": "code",
   "execution_count": null,
   "metadata": {},
   "outputs": [],
   "source": []
  }
 ],
 "metadata": {
  "kernelspec": {
   "display_name": ".venv",
   "language": "python",
   "name": "python3"
  },
  "language_info": {
   "codemirror_mode": {
    "name": "ipython",
    "version": 3
   },
   "file_extension": ".py",
   "mimetype": "text/x-python",
   "name": "python",
   "nbconvert_exporter": "python",
   "pygments_lexer": "ipython3",
   "version": "3.12.4"
  }
 },
 "nbformat": 4,
 "nbformat_minor": 2
}
